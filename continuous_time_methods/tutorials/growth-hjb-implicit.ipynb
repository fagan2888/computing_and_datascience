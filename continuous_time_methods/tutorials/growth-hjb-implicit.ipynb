{
 "cells": [
  {
   "cell_type": "markdown",
   "metadata": {},
   "source": [
    "---\n",
    "title       : \"Solving HJB equation for neoclassical growth models\"\n",
    "author      : Chiyoung Ahn (@chiyahn)\n",
    "date        : `j using Dates; print(Dates.today())`\n",
    "---\n",
    "\n",
    "### About this document\n",
    "Presented by Chiyoung Ahn (@chiyahn), written for `Weave.jl`, based on Ben Moll's [note](http://www.princeton.edu/~moll/HACTproject/HACT_Additional_Codes.pdf) and [code](http://www.princeton.edu/~moll/HACTproject/HJB_NGM_implicit.m)."
   ]
  },
  {
   "cell_type": "code",
   "execution_count": null,
   "metadata": {},
   "outputs": [],
   "source": [
    "using LinearAlgebra, Parameters, Plots, BenchmarkTools\n",
    "gr(fmt = :png); # save plots in .png"
   ]
  },
  {
   "cell_type": "markdown",
   "metadata": {},
   "source": [
    "## Model\n",
    "Consider finding the optimal consumption plan $c(t)$ for\n",
    "\n",
    "$$\\max_{\\{c(t)\\}_{t \\geq 0} } \\int e^{-\\rho t } u(c(t)) dt$$\n",
    "\n",
    "with $u(c(t)) = c(t)^{1-\\gamma} / (1-\\gamma)$ for some $\\gamma \\neq 1$ and the following law of motion for $k$:\n",
    "\n",
    "$$\\dot k(t) = F(k(t)) - \\delta k(t) - c(t)$$\n",
    "\n",
    "## Setup\n",
    "### Utility function"
   ]
  },
  {
   "cell_type": "code",
   "execution_count": null,
   "metadata": {},
   "outputs": [],
   "source": [
    "γ = 2.0\n",
    "u(c) = c^(1-γ)/(1-γ) # payoff function by control variable (consumption)\n",
    "u_prime(c) = c^(-γ) # derivative of payoff function by control variable (consumption)"
   ]
  },
  {
   "cell_type": "markdown",
   "metadata": {},
   "source": [
    "### Law of motion\n",
    "Define a production as follows first:"
   ]
  },
  {
   "cell_type": "code",
   "execution_count": null,
   "metadata": {},
   "outputs": [],
   "source": [
    "A_productivity = 1.0\n",
    "α = 0.3 \n",
    "F(k) = A_productivity*k^α;"
   ]
  },
  {
   "cell_type": "markdown",
   "metadata": {},
   "source": [
    "The corresponding law of motion for `k` given current `k` (state) and `c` (control)"
   ]
  },
  {
   "cell_type": "code",
   "execution_count": null,
   "metadata": {},
   "outputs": [],
   "source": [
    "δ = 0.05\n",
    "f(k, c) = F(k) - δ*k - c; # law of motion for saving (state)"
   ]
  },
  {
   "cell_type": "markdown",
   "metadata": {},
   "source": [
    "### Consumption function by inverse (`v_prime`)"
   ]
  },
  {
   "cell_type": "code",
   "execution_count": null,
   "metadata": {},
   "outputs": [],
   "source": [
    "c(v_prime) = v_prime^(-1/γ); # consumption by derivative of value function at certain k"
   ]
  },
  {
   "cell_type": "markdown",
   "metadata": {},
   "source": [
    "### Parameters and grids"
   ]
  },
  {
   "cell_type": "code",
   "execution_count": null,
   "metadata": {},
   "outputs": [],
   "source": [
    "# ρ: utility discount rate\n",
    "# δ: capital discount rate\n",
    "# γ: CRRA parameter\n",
    "# F: production function that maps k to a real number\n",
    "# u: utility function that maps c to a real number\n",
    "# u_prime: derivative of utility function that maps c to a real number\n",
    "# f: law of motion function that maps k (state), c (control) to the derivative of k\n",
    "# c: control by v_prime; maps v_prime (derivative of v at certain k) to consumption (control)\n",
    "# c_ss: consumption (control) when v' = 0 (i.e. steady state)\n",
    "params = (ρ = 0.05, δ = δ, γ = γ, F = F, u = u, u_prime = u_prime, f = f, c = c, c_ss = 0.0)"
   ]
  },
  {
   "cell_type": "code",
   "execution_count": null,
   "metadata": {},
   "outputs": [],
   "source": [
    "# ks: grids for states (k) -- assume uniform grids\n",
    "# Δv: step size for iteration on v\n",
    "# vs0: initial guess for vs\n",
    "# maxit: maximum number of iterations\n",
    "# threshold: threshold to be used for termination condition (maximum(abs.(vs-vs_new)) < threshold)\n",
    "# verbose: boolean that ables/disables a verbose option\n",
    "k_ss = (α*A_productivity/(params.ρ+params.δ))^(1/(1-α))\n",
    "ks = range(0.001*k_ss, stop = 2*k_ss, length = 10000)\n",
    "settings = (ks = ks,\n",
    "            Δv = 1000, \n",
    "            vs0 = (A_productivity .* ks .^ α) .^ (1-params.γ) / (1-params.γ) / params.ρ,\n",
    "            maxit = 100, threshold = 1e-8, verbose = false)"
   ]
  },
  {
   "cell_type": "markdown",
   "metadata": {},
   "source": [
    "### Optimal plan solver"
   ]
  },
  {
   "cell_type": "code",
   "execution_count": null,
   "metadata": {},
   "outputs": [],
   "source": [
    "function compute_optimal_plans(params, settings)\n",
    "    @unpack ρ, δ, γ, F, u, u_prime, f, c, c_ss = params\n",
    "    @unpack ks, Δv, vs0, maxit, threshold, verbose = settings\n",
    "\n",
    "    P = length(ks) # size of grids\n",
    "    Δk = ks[2] - ks[1] # assume uniform grids\n",
    "\n",
    "    # initial guess\n",
    "    vs = vs0; \n",
    "    vs_history = zeros(P, maxit)\n",
    "    # save control (consumption) plan as well\n",
    "    cs = zeros(P) \n",
    "\n",
    "    # begin iterations\n",
    "    for n in 1:maxit\n",
    "        # compute derivatives by FD and BD\n",
    "        dv = diff(vs) ./ Δk\n",
    "        dv_f = [dv; dv[end]] # forward difference\n",
    "        dv_b = [dv[1]; dv] # backward difference\n",
    "        dv_0 = u_prime.(f.(ks, fill(c_ss, P)))\n",
    "\n",
    "        # define the corresponding drifts\n",
    "        drift_f = f.(ks, c.(dv_f)) \n",
    "        drift_b = f.(ks, c.(dv_b))\n",
    "\n",
    "        # steady states at boundary\n",
    "        drift_f[end] = 0.0\n",
    "        drift_b[1] = 0.0\n",
    "\n",
    "        # compute consumptions and corresponding u(v)\n",
    "        I_f = drift_f .> 0.0\n",
    "        I_b = drift_b .< 0.0\n",
    "        I_0 = 1 .- I_f-I_b\n",
    "\n",
    "        dv_upwind = dv_f.*I_f + dv_b.*I_b + dv_0.*I_0;\n",
    "        cs = c.(dv_upwind)\n",
    "        us = u.(cs)\n",
    "\n",
    "        # define the matrix A\n",
    "        drift_f_upwind = max.(drift_f, 0.0) ./ Δk\n",
    "        drift_b_upwind = min.(drift_b, 0.0) ./ Δk\n",
    "        A = LinearAlgebra.Tridiagonal(-drift_b_upwind[2:P], \n",
    "                (-drift_f_upwind + drift_b_upwind), \n",
    "                drift_f_upwind[1:(P-1)]) \n",
    "\n",
    "        # solve the corresponding system to get vs_{n+1}\n",
    "        vs_new = (Diagonal(fill((ρ + 1/Δv), P)) - A) \\ (us + vs / Δv)\n",
    "\n",
    "        # show distance between vs_{n+1} and vs_n if verbose option is one\n",
    "        if (verbose) @show maximum(abs.(vs - vs_new)) end\n",
    "        \n",
    "        # check termination condition \n",
    "        if (maximum(abs.(vs-vs_new)) < threshold)\n",
    "            if (verbose) println(\"Value function converged -- total number of iterations: $n\") end\n",
    "            return (vs = vs, cs = cs, vs_history = vs_history) \n",
    "        end\n",
    "        \n",
    "        # update vs_{n+1}\n",
    "        vs = vs_new\n",
    "        vs_history[:,n] = vs\n",
    "    end\n",
    "    return (vs = vs, cs = cs, vs_history = vs_history) \n",
    "end"
   ]
  },
  {
   "cell_type": "markdown",
   "metadata": {},
   "source": [
    "## Solve"
   ]
  },
  {
   "cell_type": "code",
   "execution_count": null,
   "metadata": {},
   "outputs": [],
   "source": [
    "vs, cs, vs_history = @btime compute_optimal_plans(params, settings)"
   ]
  },
  {
   "cell_type": "markdown",
   "metadata": {},
   "source": [
    "Plot for `v_n(k)` path by `n` (iteration step):"
   ]
  },
  {
   "cell_type": "code",
   "execution_count": null,
   "metadata": {},
   "outputs": [],
   "source": [
    "plot(ks, vs_history[:,1:3],\n",
    "    linewidth = 3,\n",
    "    title=\"Value function per iteration step v_n(k)\",xaxis=\"k\",yaxis=\"v(k)\",\n",
    "    label = string.(\"v_\",1:3))"
   ]
  },
  {
   "cell_type": "markdown",
   "metadata": {},
   "source": [
    "## Plots\n",
    "### `v(k)`"
   ]
  },
  {
   "cell_type": "code",
   "execution_count": null,
   "metadata": {},
   "outputs": [],
   "source": [
    "plot(ks, vs,\n",
    "    linewidth = 3,\n",
    "    title=\"Value function v(k)\",xaxis=\"k\",yaxis=\"v(k)\",legend=false)"
   ]
  },
  {
   "cell_type": "markdown",
   "metadata": {},
   "source": [
    "### `c(k)`"
   ]
  },
  {
   "cell_type": "code",
   "execution_count": null,
   "metadata": {},
   "outputs": [],
   "source": [
    "plot(ks, cs,\n",
    "    lw = 3,\n",
    "    title=\"Optimal consumption plan c(k)\",xaxis=\"k\",yaxis=\"c(k)\",legend=false)"
   ]
  },
  {
   "cell_type": "markdown",
   "metadata": {},
   "source": [
    "### `s(k)`"
   ]
  },
  {
   "cell_type": "code",
   "execution_count": null,
   "metadata": {},
   "outputs": [],
   "source": [
    "savings = f.(ks, cs) # Savings (states) according to optimal consumption plan\n",
    "plot(ks, savings,\n",
    "    linewidth = 3,\n",
    "    title=\"Optimal saving plan s(k)\",xaxis=\"k\",yaxis=\"s(k)\",legend=false)\n",
    "plot!([.0], st = :hline, linestyle = :dot, lw = 3) # zero saving line"
   ]
  }
 ],
 "metadata": {
  "kernelspec": {
   "display_name": "Julia 1.0.2",
   "language": "julia",
   "name": "julia-1.0"
  },
  "language_info": {
   "file_extension": ".jl",
   "mimetype": "application/julia",
   "name": "julia",
   "version": "1.0.0"
  }
 },
 "nbformat": 4,
 "nbformat_minor": 2
}
